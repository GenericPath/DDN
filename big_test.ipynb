{
 "cells": [
  {
   "cell_type": "code",
   "execution_count": 5,
   "metadata": {},
   "outputs": [
    {
     "data": {
      "image/png": "[encoded data removed]",
      "text/plain": [
       "<Figure size 432x288 with 1 Axes>"
      ]
     },
     "metadata": {
      "needs_background": "light"
     },
     "output_type": "display_data"
    }
   ],
   "source": [
    "from big_helper import *\n",
    "\n",
    "imgs = get_images('baby', (28,28), 9)\n",
    "plot_images(imgs)"
   ]
  },
  {
   "attachments": {},
   "cell_type": "markdown",
   "metadata": {},
   "source": [
    "# different valid image sets\n",
    "\n",
    "# different weighting functions\n",
    "# intens, position, affinity, intens * position...\n",
    "\n",
    "# different weightings with W/np.max(W) (e.g. do we normalize the weights before doing laplace?)\n",
    "\n",
    "# different laplace solvers\n",
    "# cheap, expensive, symmetric/none...\n",
    "# how to handle 0's in D? or... how to handle 0's in d?\n",
    "\n",
    "# different eigensolvers\n",
    "# initially try for just one eig solver?\n",
    "# Time the eigensolvers\n",
    "\n",
    "# linalg.eig(L)\n",
    "# np.eig(L)\n",
    "\n",
    "# linalg.eigh(L)\n",
    "# linalg.eig(L)\n",
    "# linalg.eigh(L,D)\n",
    "# linalg.eig(L,D)\n",
    "# + the gvd variants etc....\n",
    "\n",
    "# outputs\n",
    "# - * 28, * eigval, * np.sqrt(D)\n",
    "# sign of outputs to make it an indicator vector\n",
    "# objective, eqconst\n",
    "\n"
   ]
  }
 ],
 "metadata": {
  "kernelspec": {
   "display_name": "ddn",
   "language": "python",
   "name": "python3"
  },
  "language_info": {
   "codemirror_mode": {
    "name": "ipython",
    "version": 3
   },
   "file_extension": ".py",
   "mimetype": "text/x-python",
   "name": "python",
   "nbconvert_exporter": "python",
   "pygments_lexer": "ipython3",
   "version": "3.8.13"
  },
  "orig_nbformat": 4
 },
 "nbformat": 4,
 "nbformat_minor": 2
}
