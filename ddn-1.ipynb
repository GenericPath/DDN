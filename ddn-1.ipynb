{
 "cells": [
  {
   "cell_type": "markdown",
   "metadata": {},
   "source": [
    "Deep Declarative Networks - Image segmentation testing\n",
    "---\n",
    "For local (cpuonly) torch install create a conda environment with\n",
    "> conda install pytorch torchvision torchaudio cpuonly -c pytorch\n",
    "\n",
    "> pip install -r requirements.txt\n"
   ]
  },
  {
   "cell_type": "code",
   "execution_count": null,
   "metadata": {},
   "outputs": [],
   "source": [
    "# Obtain PASCALVOC 2007 segmentation dataset from pytorch\n",
    "# switch False to True if not already downloaded\n",
    "import torchvision\n",
    "voc = torchvision.datasets.VOCSegmentation('./data/voc07/', '2007', 'train', False)\n"
   ]
  },
  {
   "cell_type": "code",
   "execution_count": null,
   "metadata": {},
   "outputs": [],
   "source": [
    "%matplotlib notebook\n",
    "import matplotlib.pyplot as plt\n",
    "\n"
   ]
  }
 ],
 "metadata": {
  "interpreter": {
   "hash": "3c744e1a5b6aac4ad03aa092328bec4dfdace4872f6f87fd4a7c5b5fd8be1581"
  },
  "kernelspec": {
   "display_name": "Python 3 (ipykernel)",
   "language": "python",
   "name": "python3"
  },
  "language_info": {
   "codemirror_mode": {
    "name": "ipython",
    "version": 3
   },
   "file_extension": ".py",
   "mimetype": "text/x-python",
   "name": "python",
   "nbconvert_exporter": "python",
   "pygments_lexer": "ipython3",
   "version": "3.7.11"
  }
 },
 "nbformat": 4,
 "nbformat_minor": 2
}
