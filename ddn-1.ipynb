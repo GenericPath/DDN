{
 "cells": [
  {
   "cell_type": "markdown",
   "metadata": {},
   "source": [
    "Deep Declarative Networks - Image segmentation testing\n",
    "---\n",
    "For local (cpuonly) torch install create a conda environment with\n",
    "> conda install pytorch torchvision torchaudio cpuonly -c pytorch\n",
    "\n",
    "> pip install -r requirements.txt\n"
   ]
  },
  {
   "cell_type": "code",
   "execution_count": null,
   "metadata": {},
   "outputs": [],
   "source": [
    "%matplotlib notebook\n",
    "import matplotlib.pyplot as plt\n"
   ]
  }
 ],
 "metadata": {
  "language_info": {
   "name": "python"
  },
  "orig_nbformat": 4
 },
 "nbformat": 4,
 "nbformat_minor": 2
}
