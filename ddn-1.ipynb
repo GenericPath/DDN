{
 "cells": [
  {
   "cell_type": "markdown",
   "metadata": {},
   "source": [
    "Deep Declarative Networks - basic examples\n",
    "---\n",
    "Either utilise the readme.md instructions, or for a local (cpuonly) torch install create a conda environment, and install\n",
    "```\n",
    "conda install pytorch torchvision torchaudio cpuonly -c pytorch\n",
    "pip install -r requirements.txt\n",
    "jupyter nbextension enable --py widgetsnbextension\n",
    "```\n",
    "\n",
    "At it's essence, a deep declarative node enables us to embed *optimisation* steps as a input->output node within a neural network.\n",
    "\n",
    "The implicit function theorem enables us to differentiate the output of our optimisation, with respect to the input.\n",
    "\n",
    "The paper https://arxiv.org/pdf/1909.04866.pdf and github https://github.com/anucvml/ddn demonstrate these more rigorously.\n",
    "\n",
    "The biggest caveats are for\n",
    "- Non-smooth objectives and constraints\n",
    "- Non-regular solutions\n",
    "- Non-uniique solutions\n",
    "- Singular hessians\n",
    "\n",
    "Although each has some suggested directions"
   ]
  },
  {
   "cell_type": "code",
   "execution_count": 8,
   "metadata": {},
   "outputs": [],
   "source": [
    "%matplotlib inline\n",
    "\n",
    "import autograd.numpy as np\n",
    "from autograd import grad\n",
    "from autograd import jacobian\n",
    "\n",
    "import matplotlib.pyplot as plt\n",
    "\n",
    "import warnings\n",
    "warnings.filterwarnings('ignore')"
   ]
  },
  {
   "cell_type": "markdown",
   "metadata": {},
   "source": [
    "# Example 1 - implicit function theorem (and autograd)"
   ]
  },
  {
   "cell_type": "code",
   "execution_count": 9,
   "metadata": {},
   "outputs": [],
   "source": [
    "# Function we want to minimise (wrt u)\n",
    "def f(x, u):\n",
    "    \"\"\"y(x) = argmin_u f(x,u) = xu^4 + 2x^2u^3 - 12u^2\"\"\"\n",
    "    return x * u ** 4.0 + 2 * x ** 2.0 * u ** 3.0 - 12.0 * u ** 2.0\n",
    "\n",
    "# the solution, from just equating d/du f(x,u) = 0\n",
    "def solve(x):\n",
    "    delta = np.sqrt(9.0 * x ** 4.0 + 96.0 * x)\n",
    "    y_stationary = [0.0, (-3.0 * x ** 2.0 - delta) / (4.0 * x), (-3.0 * x ** 2.0 + delta) / (4.0 * x)]\n",
    "    y_min_indx = np.argmin([f(x, y) for y in y_stationary])\n",
    "    return y_stationary[y_min_indx]"
   ]
  },
  {
   "cell_type": "code",
   "execution_count": 10,
   "metadata": {},
   "outputs": [],
   "source": [
    "# Generate dataset\n",
    "x = np.linspace(0.25, 2.25, 101)\n",
    "u = np.linspace(-6.0, 4.0, 101)"
   ]
  },
  {
   "cell_type": "code",
   "execution_count": 14,
   "metadata": {},
   "outputs": [],
   "source": [
    "def gradient_by_closed_form(x):\n",
    "    \"\"\"Compute the gradient using the closed-form expression.\"\"\"\n",
    "    delta = np.sqrt(9.0 * x ** 4 + 96.0 * x)\n",
    "    return -0.75 - (9.0 * x ** 3 - 48.0) / (4 * x * delta)\n",
    "\n",
    "def gradient_by_ift(x, y):\n",
    "    \"\"\"Compute the gradient using the implicit function theorem result.\"\"\"\n",
    "    return -1.0 * (y ** 3 + 3.0 * x * y ** 2) / (3.0 * x * y ** 2 + 3.0 * x ** 2 * y - 6.0)\n",
    "\n",
    "y = [solve(xi) for xi in x]"
   ]
  },
  {
   "cell_type": "code",
   "execution_count": 15,
   "metadata": {},
   "outputs": [
    {
     "data": {
      "image/png": "[encoded data removed]",
      "text/plain": [
       "<Figure size 432x288 with 2 Axes>"
      ]
     },
     "metadata": {
      "needs_background": "light"
     },
     "output_type": "display_data"
    }
   ],
   "source": [
    "def f(x, u):\n",
    "    return x * np.power(u, 4.0) + 2 * np.power(x, 2.0) * np.power(u, 3.0) - 12.0 * np.power(u, 2.0)\n",
    "\n",
    "def gradient_by_auto_diff(x, y):\n",
    "    fY = grad(f, 1)\n",
    "    fXY = jacobian(fY, 0)\n",
    "    fYY = jacobian(fY, 1)\n",
    "\n",
    "    return -1.0 * fXY(x, y) / fYY(x, y)\n",
    "\n",
    "plt.figure()\n",
    "plt.subplot(2, 1, 1); plt.plot(x, y); plt.grid()\n",
    "plt.title(r'$y = argmin_u f(x, u)$'); plt.ylabel(r'$y$')\n",
    "\n",
    "plt.subplot(2, 1, 2); \n",
    "# Shows all the gradients are equal! Therefore implicit function theorem and autograd all work nicely!\n",
    "plt.plot(x, [gradient_by_auto_diff(xi, yi) for xi, yi in zip(x, y)]); plt.grid()\n",
    "plt.plot(x, [gradient_by_closed_form(xi) for xi in x])\n",
    "plt.plot(x, [gradient_by_ift(xi, yi) for xi, yi in zip(x, y)])\n",
    "plt.xlabel(r'$x$'); plt.ylabel(r'$dy/dx$')\n",
    "\n",
    "plt.show()"
   ]
  },
  {
   "cell_type": "markdown",
   "metadata": {},
   "source": [
    "# Example 2 - pytorch ddn node\n",
    "This creates a pytorch node (which can be used in the forward pass) and automatically computes gradients for the backwards pass in [DDN library](https://github.com/anucvml/ddn/)\n",
    "\n",
    "DDN nodes to inherit from:\n",
    "- AbstractDeclarativeNode \n",
    "```\n",
    "    minimize (over y) f(x, y)\n",
    "```\n",
    "- EqConstDeclarativeNode\n",
    "```\n",
    "    minimize (over y) f(x, y)\n",
    "    subject to  h_i(x, y) = 0\n",
    "```\n",
    "- IneqConstDeclarativeNode\n",
    "```\n",
    "    minimize (over y) f(x, y)\n",
    "    subject to  h_i(x, y) = 0\n",
    "                g_i(x, y) <= 0\n",
    "```\n",
    "- LinEqConstDeclarativeNode\n",
    "```\n",
    "    minimize (over y) f(x, y)\n",
    "    subject to  A y = d\n",
    "```"
   ]
  },
  {
   "cell_type": "markdown",
   "metadata": {},
   "source": [
    "Each [node](https://github.com/anucvml/ddn/blob/master/ddn/pytorch/node.py) needs: \n",
    "- **objective function** f(x,y)\n",
    "```python\n",
    "def objective(self, x, y):\n",
    "    return ...\n",
    "```\n",
    "- optional constraints (if problem is constrained)\n",
    "```python\n",
    "def equality_constraints(self, *xs, y):\n",
    "    return ...\n",
    "```\n",
    "```python\n",
    "def inequality_constraints(self, *xs, y):\n",
    "    return ...\n",
    "```\n",
    "- **solve** (returns solution y, context for computing gradient (optional)\n",
    "```python\n",
    "def solve(self, *xs):\n",
    "    return ..., ...\n",
    "```\n",
    "\n",
    "plus, if you have an efficient gradient calculation\n",
    "- you may also override the gradient function\n",
    "```python\n",
    "def gradient(self, *xs, y=None, v=None, ctx=None):\n",
    "    return ...\n",
    "```"
   ]
  },
  {
   "cell_type": "markdown",
   "metadata": {},
   "source": [
    "For unconstrained you can utilise \n",
    "- torch.optim \n",
    "To solve for for constrained scalar problems you can utilise\n",
    "- scipy.minimize\n",
    "\n",
    "Scipy potentially needs to be used with 1.4.1 or it may crash? (unknown issue)\n",
    "\n",
    "The following is an example of scipy.optimize for a linearly constrained problem"
   ]
  },
  {
   "cell_type": "code",
   "execution_count": 19,
   "metadata": {},
   "outputs": [],
   "source": [
    "# A simple example, utilising pytorch\n",
    "#####################################\n",
    "\n",
    "import torch\n",
    "import numpy as np\n",
    "import scipy.optimize as opt\n",
    "from ddn.pytorch.node import *\n",
    "\n",
    "# create the example node\n",
    "class MinKL(LinEqConstDeclarativeNode):\n",
    "    def __init__(self):\n",
    "        super().__init__()\n",
    "\n",
    "    def objective(self, x, y):\n",
    "        \"\"\"f(x, y) = -sum x*log(y)\"\"\"\n",
    "        return -1.0 * torch.einsum('bn,bn->b', (x, y.log()))\n",
    "    \n",
    "    def linear_constraint_parameters(self, y):\n",
    "        \"\"\"Ay=d ==> sum(y) = 1\"\"\"\n",
    "        A = y.new_ones(1, y.size(-1)) # 1xm\n",
    "        d = y.new_ones(1) # 1\n",
    "        return A, d\n",
    "        \n",
    "    def solve(self, x):\n",
    "        \"\"\"Solve the constrained optimization problem using scipy's built-in minimize function.\n",
    "        Here we initialize the solver at the uniform distribution.\n",
    "        \"\"\"\n",
    "        m = n = x.size(-1)\n",
    "        u0 = np.ones((m,)) / m\n",
    "        y = torch.zeros_like(x)\n",
    "        # Loop over batch:\n",
    "        for i, xi in enumerate(x):\n",
    "            result = opt.minimize(lambda u: -1.0 * np.dot(xi.detach().numpy(), np.log(u)),\n",
    "                                  u0,\n",
    "                                  constraints={'type': 'eq', 'fun': lambda u: np.sum(u) - 1.0},\n",
    "                                  bounds=opt.Bounds(1e-12, np.inf, keep_feasible=True),\n",
    "                                  options={'maxiter': 100000, 'ftol': 1e-12})\n",
    "            y[i, :] = torch.tensor(result.x)\n",
    "        \n",
    "        # The solve function must always return two arguments, the solution and context (i.e., cached values needed\n",
    "        # for computing the gradient). In the case of linearly constrained problems we do not need the dual solution\n",
    "        # in computing the gradient so we return None for context.\n",
    "        return y, None"
   ]
  },
  {
   "cell_type": "code",
   "execution_count": 18,
   "metadata": {},
   "outputs": [
    {
     "name": "stdout",
     "output_type": "stream",
     "text": [
      "Input:\n",
      "[0.22006702 0.8772989  0.5509969  0.17108011 0.97609276]\n",
      "Expected output:\n",
      "[0.07872088 0.3138214  0.19709887 0.06119762 0.34916127]\n",
      "Actual output:\n",
      "[0.07872087 0.3138214  0.19709885 0.0611976  0.34916127]\n"
     ]
    }
   ],
   "source": [
    "node = MinKL()\n",
    "x = torch.rand(1, 5)\n",
    "print(\"Input:\\n{}\".format(x.squeeze().numpy()))\n",
    "print(\"Expected output:\\n{}\".format((x / x.sum(dim=-1, keepdim=True)).squeeze().numpy()))\n",
    "\n",
    "y, _ = node.solve(x)\n",
    "print(\"Actual output:\\n{}\".format(y.squeeze().numpy()))"
   ]
  },
  {
   "cell_type": "markdown",
   "metadata": {},
   "source": [
    "See https://nbviewer.org/github/anucvml/ddn/tree/master/tutorials/ for the original authors full set of tutorials"
   ]
  }
 ],
 "metadata": {
  "interpreter": {
   "hash": "3c744e1a5b6aac4ad03aa092328bec4dfdace4872f6f87fd4a7c5b5fd8be1581"
  },
  "kernelspec": {
   "display_name": "ddn",
   "language": "python",
   "name": "ddn"
  },
  "language_info": {
   "codemirror_mode": {
    "name": "ipython",
    "version": 3
   },
   "file_extension": ".py",
   "mimetype": "text/x-python",
   "name": "python",
   "nbconvert_exporter": "python",
   "pygments_lexer": "ipython3",
   "version": "3.7.11"
  }
 },
 "nbformat": 4,
 "nbformat_minor": 2
}
