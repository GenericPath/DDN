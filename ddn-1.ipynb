{
 "cells": [
  {
   "cell_type": "markdown",
   "metadata": {},
   "source": [
    "Deep Declarative Networks - Image segmentation testing\n",
    "---\n",
    "For local (cpuonly) torch install create a conda environment with\n",
    "> conda install pytorch torchvision torchaudio cpuonly -c pytorch\n",
    "\n",
    "> pip install -r requirements.txt\n",
    "\n",
    "> jupyter nbextension enable --py widgetsnbextension\n"
   ]
  },
  {
   "cell_type": "code",
   "execution_count": 36,
   "metadata": {
    "scrolled": false
   },
   "outputs": [
    {
     "data": {
      "text/plain": [
       "<matplotlib.image.AxesImage at 0x7f5016ec9190>"
      ]
     },
     "execution_count": 36,
     "metadata": {},
     "output_type": "execute_result"
    },
    {
     "data": {
      "image/png": "[encoded data removed]",
      "text/plain": [
       "<Figure size 432x288 with 1 Axes>"
      ]
     },
     "metadata": {
      "needs_background": "light"
     },
     "output_type": "display_data"
    }
   ],
   "source": [
    "# Obtain PASCALVOC 2007 segmentation dataset from pytorch\n",
    "# switch False to True if not already downloaded\n",
    "%matplotlib inline\n",
    "# or notebook for interactive?\n",
    "import matplotlib.pyplot as plt\n",
    "import numpy as np\n",
    "import torchvision\n",
    "import torch\n",
    "\n",
    "voc = torchvision.datasets.VOCSegmentation(root='./data/voc07/', year='2007', image_set='train', download=False)\n",
    "\n",
    "cifar10 = torchvision.datasets.CIFAR10(root='./data/cifar10/', train=True, download= False)\n",
    "image,target = cifar10[0]\n",
    "plt.imshow(image)"
   ]
  },
  {
   "cell_type": "code",
   "execution_count": 41,
   "metadata": {},
   "outputs": [],
   "source": [
    "import skimage\n",
    "\n",
    "# This is a simple dissimilarity graph creation, using absolute intensity differences\n",
    "# calculated using YUV colour space (thanks scikit-image package for doing everything)\n",
    "def create_graph(image):\n",
    "    # create the pixel graph with edge weights as dissimilarities\n",
    "    yuv = skimage.color.rgb2yiq(image)\n",
    "    (w, h) = yuv.shape[:2]\n",
    "    edges_img = np.zeros((h, w))\n",
    "    for i in range(yuv.shape[0]):\n",
    "        for j in range(yuv.shape[1]):\n",
    "            # compute edge weight for nbd pixel nodes for the node i,j\n",
    "            for i1 in range(i-1, i+2):\n",
    "                for j1 in range(j-1, j+2):\n",
    "                    if i1 == i and j1 == j: continue\n",
    "                    if i1 >= 0 and j1 >= 0 and i1 < h and j1 < w:\n",
    "                        wt = np.abs(yuv[i,j,0]-yuv[i1,j1,0]) # how dissimilar they are\n",
    "                        edges_img[i1,j1] = wt\n",
    "    return edges_img"
   ]
  },
  {
   "cell_type": "code",
   "execution_count": 42,
   "metadata": {},
   "outputs": [
    {
     "data": {
      "text/plain": [
       "<matplotlib.image.AxesImage at 0x7f5016d20150>"
      ]
     },
     "execution_count": 42,
     "metadata": {},
     "output_type": "execute_result"
    },
    {
     "data": {
      "image/png": "[encoded data removed]",
      "text/plain": [
       "<Figure size 432x288 with 1 Axes>"
      ]
     },
     "metadata": {
      "needs_background": "light"
     },
     "output_type": "display_data"
    }
   ],
   "source": [
    "plt.clf()\n",
    "w = create_graph(image)\n",
    "plt.imshow(w)"
   ]
  },
  {
   "cell_type": "code",
   "execution_count": null,
   "metadata": {},
   "outputs": [],
   "source": [
    "# Now we can do normalised cutting from [Shi & Malik (2000)] https://people.eecs.berkeley.edu/~malik/papers/SM-ncut.pdf\n",
    "\n"
   ]
  },
  {
   "cell_type": "code",
   "execution_count": null,
   "metadata": {},
   "outputs": [],
   "source": []
  },
  {
   "cell_type": "code",
   "execution_count": null,
   "metadata": {},
   "outputs": [],
   "source": []
  },
  {
   "cell_type": "code",
   "execution_count": null,
   "metadata": {},
   "outputs": [],
   "source": [
    "# OLD STUFF FROM in[1]\n",
    "# voc = torchvision.datasets.VOCSegmentation(root='./data/voc07/', year='2007', image_set='train', download=False)\n",
    "# # voc = torchvision.datasets.VOCDetection(root='./data/voc07detect/', year='2007', image_set='train', download=False)\n",
    "# # each index is a tuple of (image, segmentation)\n",
    "\n",
    "# img = voc[0][0]\n",
    "# plt.imshow(img)\n",
    "\n",
    "# img.getpixel((0,0))[0]\n",
    "\n",
    "# CITYSCAPES DATASET (these images are big...)\n",
    "# cityscapes = torchvision.datasets.Cityscapes(root='./data/cityscapes/', split='train', mode='fine',\n",
    "#                      target_type='semantic')\n",
    "\n",
    "# img, smnt = cityscapes[0]\n",
    "# plt.figure()\n",
    "# plt.imshow(img)\n",
    "# plt.figure()\n",
    "# plt.imshow(smnt)"
   ]
  }
 ],
 "metadata": {
  "interpreter": {
   "hash": "3c744e1a5b6aac4ad03aa092328bec4dfdace4872f6f87fd4a7c5b5fd8be1581"
  },
  "kernelspec": {
   "display_name": "Python 3 (ipykernel)",
   "language": "python",
   "name": "python3"
  },
  "language_info": {
   "codemirror_mode": {
    "name": "ipython",
    "version": 3
   },
   "file_extension": ".py",
   "mimetype": "text/x-python",
   "name": "python",
   "nbconvert_exporter": "python",
   "pygments_lexer": "ipython3",
   "version": "3.7.11"
  }
 },
 "nbformat": 4,
 "nbformat_minor": 2
}
