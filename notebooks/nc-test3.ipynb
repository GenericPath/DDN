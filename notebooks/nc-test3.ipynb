{
 "cells": [
  {
   "cell_type": "code",
   "execution_count": 67,
   "metadata": {},
   "outputs": [],
   "source": [
    "import numpy as np\n",
    "\n",
    "import sys\n",
    "sys.path.append(\"..\")\n",
    "from nc_suite import *"
   ]
  },
  {
   "cell_type": "code",
   "execution_count": 68,
   "metadata": {},
   "outputs": [],
   "source": [
    "# Create img and labels\n",
    "from torchvision import datasets\n",
    "import cv2\n",
    "\n",
    "img_baby = cv2.imread(\"../data/test/3.jpg\",0)\n",
    "img_baby = cv2.resize(img_baby, (28,28))\n",
    "\n",
    "mnist = datasets.MNIST('data', train=True, download=True)\n",
    "img = np.asarray(mnist[2][0])\n",
    "\n",
    "label = np.copy(img) # shallow copy is fine, since it isn't python objects inside\n",
    "label[label>0] = 1"
   ]
  },
  {
   "cell_type": "code",
   "execution_count": 69,
   "metadata": {},
   "outputs": [],
   "source": [
    "# Really simple weighting methods...\n",
    "# based on nc-test-multi these are the only consistent ones :)\n",
    "# see TODO in nc-test-multi\n",
    "\n",
    "# Image 1 (MNIST)\n",
    "i_W = intensity_weight_matrix(img)\n",
    "pi_W = intens_posit_wm(img)\n",
    "\n",
    "# Image 2 (baby)\n",
    "i_W_baby = intensity_weight_matrix(img_baby)\n",
    "pi_W_baby = intens_posit_wm(img_baby)"
   ]
  },
  {
   "cell_type": "code",
   "execution_count": 70,
   "metadata": {},
   "outputs": [],
   "source": [
    "from collections import OrderedDict\n",
    "\n",
    "weights = OrderedDict(\n",
    "    i_W=i_W, pi_W=pi_W,\n",
    "    i_W_baby=i_W_baby, pi_W_baby=pi_W_baby\n",
    ")\n",
    "\n",
    "for key,value in weights.items(): #eigsh expects float or double\n",
    "    weights[key] = value.astype(float)"
   ]
  },
  {
   "cell_type": "code",
   "execution_count": 72,
   "metadata": {},
   "outputs": [],
   "source": [
    "def deterministic_vector_sign_flip(u):\n",
    "    # from https://github.com/scikit-learn/scikit-learn/blob/main/sklearn/utils/extmath.py#L1097\n",
    "    max_abs_rows = np.argmax(np.abs(u))\n",
    "    signs = np.sign(u[max_abs_rows])\n",
    "    u *= signs\n",
    "    return u"
   ]
  },
  {
   "cell_type": "code",
   "execution_count": null,
   "metadata": {},
   "outputs": [],
   "source": [
    "from functools import partial\n",
    "\n",
    "# the methods to store\n",
    "import scipy.linalg as linalg\n",
    "import scipy.sparse.linalg as sparse\n",
    "\n",
    "def laplace_expensive(D, W): # should be more expensive to compute...\n",
    "    sqrt_D_inv = np.diag(1.0 / np.sqrt(np.diag(D))) # assumes D is 1 dimensional vector\n",
    "    D = np.diag(D)\n",
    "    return sqrt_D_inv @ (D - W) @ sqrt_D_inv\n",
    "\n",
    "def laplace_cheap(D,W): # shift invert (implemented here) should be better...\n",
    "    shift = 1\n",
    "    sqrt_D = np.diag(np.sqrt(D)) # assumes D is 1 dimensional vector\n",
    "    D = np.diag(D)\n",
    "    return sqrt_D @ np.linalg.inv(D @ (1-shift) - W) @ sqrt_D\n",
    "\n",
    "def post_solve_1(y, num=28):\n",
    "    return y * num\n",
    "\n",
    "def post_solve_2(y, D):\n",
    "    # y = D^0.5 * z\n",
    "    y = np.sqrt(D) @ y # e.g. if solving generalized need to do this to get y out of z...?\n",
    "    return y\n",
    "\n",
    "# TODO: Finish these\n",
    "# Compute a difference in gradient between two inputs (one perturbed like gradSlam)\n",
    "    \n",
    "\n",
    "laplace_options = OrderedDict(\n",
    "    # non_symm = non_symm,\n",
    "    symm2 = laplace_expensive\n",
    ")\n",
    "\n",
    "eigs_options = OrderedDict(\n",
    "    eigh_cff = partial(linalg.eigh, check_finite=False),\n",
    "    lobpcg = partial(sparse.lobpcg, largest=False)\n",
    ")"
   ]
  },
  {
   "cell_type": "code",
   "execution_count": 73,
   "metadata": {},
   "outputs": [
    {
     "name": "stderr",
     "output_type": "stream",
     "text": [
      "eigh_cff - symm2: 100%|██████████| 8/8 [00:03<00:00,  2.44it/s]\n"
     ]
    }
   ],
   "source": [
    "from tqdm import tqdm\n",
    "    \n",
    "# solve with any given eigensolver and laplacian approach\n",
    "def generic_solve(W, laplace,solver):\n",
    "    L = laplace(W)\n",
    "    _, eig_vectors = solver(L)\n",
    "    \n",
    "    output = eig_vectors[:, 1]\n",
    "    deterministic_vector_sign_flip(output)\n",
    "    output = output.reshape(*np.sqrt(W.shape).astype(int)) \n",
    "    return output\n",
    "\n",
    "def generic_solve_vals(W, laplace,solver):\n",
    "    L = laplace(np.copy(W))\n",
    "    vals, _ = solver(L)\n",
    "    return vals\n",
    "\n",
    "outputs = []\n",
    "errors = []\n",
    "\n",
    "row_headers = []\n",
    "col_headers = []\n",
    "titles = []\n",
    "\n",
    "for laplace_name, laplace_func in laplace_options.items(): # and each laplacian type\n",
    "    if laplace_name not in titles:\n",
    "        titles.append(laplace_name)\n",
    "    \n",
    "    sub_output = []\n",
    "    for eig_name, eig_func in eigs_options.items(): # for each eigensolver    \n",
    "        row_headers.append(eig_name)\n",
    "        \n",
    "        for weight_name, weight in (pbar := tqdm(weights.items())): # and each weight    \n",
    "            pbar.set_description(f'{eig_name} - {laplace_name}')\n",
    "            \n",
    "            if weight_name not in ['img','img_baby', 'label', 'blank']: # that isn't some other array      \n",
    "                if weight_name not in col_headers:\n",
    "                    col_headers.append(weight_name)\n",
    "                try:\n",
    "                    out1 = generic_solve(weight, laplace_func, eig_func)\n",
    "                    sub_output.append(out1) # solve and append its output\n",
    "                except Exception as err:\n",
    "                    sub_output.append(np.zeros_like(img))\n",
    "                    errors.append(f'{eig_name} - {weight_name}\\n{err=}\\n')\n",
    "    outputs.append(sub_output)"
   ]
  }
 ],
 "metadata": {
  "kernelspec": {
   "display_name": "ddn",
   "language": "python",
   "name": "python3"
  },
  "language_info": {
   "codemirror_mode": {
    "name": "ipython",
    "version": 3
   },
   "file_extension": ".py",
   "mimetype": "text/x-python",
   "name": "python",
   "nbconvert_exporter": "python",
   "pygments_lexer": "ipython3",
   "version": "3.8.11"
  },
  "orig_nbformat": 4
 },
 "nbformat": 4,
 "nbformat_minor": 2
}
