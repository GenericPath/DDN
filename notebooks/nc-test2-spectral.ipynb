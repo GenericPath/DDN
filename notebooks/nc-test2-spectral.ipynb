{
 "cells": [
  {
   "cell_type": "code",
   "execution_count": 27,
   "metadata": {},
   "outputs": [],
   "source": [
    "# NOTE: Doesn't work for my test data\n",
    "\n",
    "# Approach using sklearn.cluser.SpectralClustering\n",
    "# where it is normalized cuts if n_cluster = 2\n",
    "from sklearn.cluster import spectral_clustering\n",
    "\"\"\"\n",
    "A distance matrix for which 0 indicates identical elements and high values indicate very dissimilar elements can be transformed into an affinity / similarity matrix that is well-suited for the algorithm by applying the Gaussian (aka RBF, heat) kernel:\n",
    "    np.exp(- dist_matrix ** 2 / (2. * delta ** 2))\n",
    "\"\"\"\n",
    "\n",
    "graph = feature_extraction.image.img_to_graph(img_baby)\n",
    "# delta = 10\n",
    "# graph.data = np.exp(-graph.data ** 2 / (2. * delta ** 2))\n",
    "graph.data = np.exp(-graph.data / graph.data.std())\n",
    "\n",
    "labels = spectral_clustering(graph, n_clusters=2, eigen_solver=\"arpack\")\n",
    "labels = labels.reshape(img_baby.shape)"
   ]
  },
  {
   "cell_type": "code",
   "execution_count": 28,
   "metadata": {},
   "outputs": [
    {
     "data": {
      "image/png": "[encoded data removed]",
      "text/plain": [
       "<Figure size 288x288 with 2 Axes>"
      ]
     },
     "metadata": {
      "needs_background": "light"
     },
     "output_type": "display_data"
    }
   ],
   "source": [
    "plt.rcParams[\"figure.figsize\"] = (4,4) # specify the size for this cell\n",
    "plot_images(imgs=[img_baby, labels])\n"
   ]
  }
 ],
 "metadata": {
  "kernelspec": {
   "display_name": "ddn",
   "language": "python",
   "name": "python3"
  },
  "language_info": {
   "codemirror_mode": {
    "name": "ipython",
    "version": 3
   },
   "file_extension": ".py",
   "mimetype": "text/x-python",
   "name": "python",
   "nbconvert_exporter": "python",
   "pygments_lexer": "ipython3",
   "version": "3.8.13"
  },
  "orig_nbformat": 4
 },
 "nbformat": 4,
 "nbformat_minor": 2
}
