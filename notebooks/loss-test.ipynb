{
 "cells": [
  {
   "cell_type": "code",
   "execution_count": null,
   "metadata": {},
   "outputs": [],
   "source": [
    "import numpy as np\n",
    "from scipy import linalg\n",
    "import torch\n",
    "\n",
    "seed = 123\n",
    "dtype = np.float64 # Currently doesn't do anything as random.rand doesn't accept\n",
    "# and possibly generate different sparisities?? As realistically will be somewhat sparse\n",
    "np.random.seed(seed)"
   ]
  }
 ],
 "metadata": {
  "kernelspec": {
   "display_name": "ddn",
   "language": "python",
   "name": "python3"
  },
  "language_info": {
   "name": "python",
   "version": "3.8.11"
  },
  "orig_nbformat": 4,
  "vscode": {
   "interpreter": {
    "hash": "54d5fe071eb1c6cab15b1ad8a1b991a5b0fe2969ee0e1d70b33f4a0ef5774aa2"
   }
  }
 },
 "nbformat": 4,
 "nbformat_minor": 2
}
