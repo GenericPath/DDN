{
 "cells": [
  {
   "cell_type": "code",
   "execution_count": 39,
   "metadata": {},
   "outputs": [],
   "source": [
    "from torchvision import datasets\n",
    "import numpy as np\n",
    "from matplotlib import pyplot as plt"
   ]
  },
  {
   "cell_type": "code",
   "execution_count": 40,
   "metadata": {},
   "outputs": [
    {
     "name": "stdout",
     "output_type": "stream",
     "text": [
      "(28, 28)\n"
     ]
    },
    {
     "data": {
      "image/png": "[encoded data removed]",
      "text/plain": [
       "<Figure size 432x576 with 1 Axes>"
      ]
     },
     "metadata": {
      "needs_background": "light"
     },
     "output_type": "display_data"
    }
   ],
   "source": [
    "mnist = datasets.MNIST('data', train=True, download=True)\n",
    "\n",
    "fig, ax = plt.subplots(nrows=1, sharex=True, sharey=True, figsize=(6, 8))\n",
    "\n",
    "image_pil = mnist[2][0]\n",
    "image_np = np.asarray(mnist[2][0]) # To undo: im = PIL.Image.fromarray(numpy.uint8(I))\n",
    "\n",
    "ax.imshow(image_np)\n",
    "ax.axis('off')\n",
    "plt.tight_layout()\n",
    "\n",
    "print(image_np.shape)"
   ]
  },
  {
   "cell_type": "code",
   "execution_count": 41,
   "metadata": {},
   "outputs": [],
   "source": [
    "def weights(img):\n",
    "    channel = 1\n",
    "    n_row, n_col = img.shape\n",
    "    \n",
    "    N = n_row*n_col\n",
    "    W = np.zeros((N,N))\n",
    "    \n",
    "    r = 2\n",
    "    sigma_I = 0.1\n",
    "    sigma_X = 1.0\n",
    "    \n",
    "    for row_count, row in enumerate(img):\n",
    "        for col_count, v in enumerate(row):\n",
    "            index = row_count * n_col + col_count\n",
    "\n",
    "            search_w = r * 2 + 1\n",
    "            start_row = row_count - r\n",
    "            start_col = col_count - r\n",
    "\n",
    "            for d_row in range(search_w):\n",
    "                for d_col in range(search_w):\n",
    "                    new_row = start_row + d_row\n",
    "                    new_col = start_col + d_col\n",
    "                    dst = (new_row - row_count) ** 2 + (new_col - col_count) ** 2\n",
    "                    if 0 <= new_col < n_col and 0 <= new_row < n_row:\n",
    "                        if dst >= r ** 2:\n",
    "                            continue\n",
    "\n",
    "                        cur_index = int(new_row * n_col + new_col)\n",
    "\n",
    "                        F = img[row_count, col_count] - img[new_row, new_col]\n",
    "                        if channel == 3:\n",
    "                            F_diff = F[0]**2 + F[1]**2 + F[2]**2  \n",
    "                        else:\n",
    "                            F_diff = F**2\n",
    "\n",
    "                        w = np.exp(-((F_diff / (sigma_I ** 2)) + (dst / (sigma_X ** 2))))\n",
    "                        W[index, cur_index] = w\n",
    "\n",
    "    return W"
   ]
  },
  {
   "cell_type": "code",
   "execution_count": 46,
   "metadata": {},
   "outputs": [
    {
     "name": "stderr",
     "output_type": "stream",
     "text": [
      "/tmp/ipykernel_3894/1491859094.py:31: RuntimeWarning: overflow encountered in ubyte_scalars\n",
      "  F = img[row_count, col_count] - img[new_row, new_col]\n"
     ]
    },
    {
     "data": {
      "image/png": "[encoded data removed]",
      "text/plain": [
       "<Figure size 432x576 with 1 Axes>"
      ]
     },
     "metadata": {
      "needs_background": "light"
     },
     "output_type": "display_data"
    }
   ],
   "source": [
    "W = weights(image_np)\n",
    "\n",
    "fig, ax = plt.subplots(nrows=1, sharex=True, sharey=True, figsize=(6, 8))\n",
    "ax.imshow(W)\n",
    "ax.axis('off')\n",
    "plt.tight_layout()"
   ]
  },
  {
   "cell_type": "code",
   "execution_count": 48,
   "metadata": {},
   "outputs": [
    {
     "name": "stdout",
     "output_type": "stream",
     "text": [
      "L      - min -0.36787944117144233, max 2.0128588976322206, avg 3.9213709562116286e-19\n",
      "L_symm - min -0.26894142136999516, max 0.6680893350877163, avg 1.2850714669884606e-06\n"
     ]
    },
    {
     "data": {
      "image/png": "[encoded data removed]",
      "text/plain": [
       "<Figure size 432x576 with 2 Axes>"
      ]
     },
     "metadata": {
      "needs_background": "light"
     },
     "output_type": "display_data"
    }
   ],
   "source": [
    "d = np.sum(W, axis=0)\n",
    "D = np.diagflat(d)\n",
    "\n",
    "d_sqrt_inv = np.power(np.sqrt(d),-1)\n",
    "D_sqrt_inv = np.diagflat(d_sqrt_inv)\n",
    "\n",
    "L = D-W\n",
    "L_symm = D_sqrt_inv @ (D-W) @ D_sqrt_inv\n",
    "\n",
    "fig, ax = plt.subplots(nrows=2, sharex=True, sharey=True, figsize=(6, 8))\n",
    "ax[0].imshow(L)\n",
    "ax[1].imshow(L_symm)\n",
    "for a in ax:\n",
    "    a.axis('off')\n",
    "plt.tight_layout()\n",
    "\n",
    "print(f'L      - min {np.min(L)}, max {np.max(L)}, avg {np.average(L)}')\n",
    "print(f'L_symm - min {np.min(L_symm)}, max {np.max(L_symm)}, avg {np.average(L_symm)}')"
   ]
  },
  {
   "cell_type": "code",
   "execution_count": 61,
   "metadata": {},
   "outputs": [
    {
     "name": "stdout",
     "output_type": "stream",
     "text": [
      "[1.68928985e-03 1.80574992e-16 6.22908829e-17 4.61653255e-17\n",
      " 7.49692694e-16 2.83049079e-16]\n",
      "[3 2 1 5 4 0]\n",
      "\n",
      "\n",
      "[ 2.65467448e-16  1.89665203e-16  6.44723389e-17 -4.04902216e-17\n",
      " -1.17079508e-16  3.37907563e-17]\n",
      "[4 3 5 2 1 0]\n"
     ]
    }
   ],
   "source": [
    "from scipy.sparse import linalg\n",
    "\n",
    "# import sys\n",
    "# sys.path.append(\"../\")\n",
    "# from nc import NormalizedCuts\n",
    "\n",
    "# Node = NormalizedCuts(symm_norm_L=True)\n",
    "\n",
    "# turns despite requesting the correct order it is wrong :)\n",
    "\n",
    "\n",
    "# TODO: in general\n",
    "# Lsymm vs L\n",
    "# eigs, eigh and a few others probably... also sigma for eigs?\n",
    "# TODO: for this part\n",
    "# y = D_inv_sqrt * z\n",
    "# index = np.argsort(lam)\n",
    "# smallest = y[:, index[1]] # Does this line make any sense at all??? Or is it wrong..\n",
    "\n",
    "\n",
    "# Current learnings:\n",
    "# the order is different every time, despite an option which is 'which' = Smallest real.. (more the method used and not the actual thing..)\n",
    "\n",
    "lam_l, z_l = linalg.eigs(L, which='SR')\n",
    "index_l = np.argsort(lam_l)\n",
    "print(lam_l.real)\n",
    "print(index_l)\n",
    "\n",
    "print('\\n')\n",
    "\n",
    "lam_lsymm, z_lsymm = linalg.eigs(L_symm, which='SR')\n",
    "index_lsymm = np.argsort(lam_lsymm)\n",
    "print(lam_lsymm.real)\n",
    "print(index_lsymm)"
   ]
  }
 ],
 "metadata": {
  "kernelspec": {
   "display_name": "ddn",
   "language": "python",
   "name": "python3"
  },
  "language_info": {
   "codemirror_mode": {
    "name": "ipython",
    "version": 3
   },
   "file_extension": ".py",
   "mimetype": "text/x-python",
   "name": "python",
   "nbconvert_exporter": "python",
   "pygments_lexer": "ipython3",
   "version": "3.8.13"
  },
  "orig_nbformat": 4,
  "vscode": {
   "interpreter": {
    "hash": "8558cbc3f36500dd666d5355ab3ea28f624389a396c6801e013a06ff2d600989"
   }
  }
 },
 "nbformat": 4,
 "nbformat_minor": 2
}
