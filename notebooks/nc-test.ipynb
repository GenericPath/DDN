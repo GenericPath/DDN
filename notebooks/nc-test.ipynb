{
 "cells": [
  {
   "cell_type": "code",
   "execution_count": 1,
   "metadata": {},
   "outputs": [],
   "source": [
    "from skimage import segmentation, graph, color\n",
    "from sklearn import feature_extraction\n",
    "from torchvision import datasets\n",
    "import numpy as np\n",
    "\n",
    "import sys\n",
    "sys.path.append(\"..\")\n",
    "from nc_suite import *"
   ]
  },
  {
   "cell_type": "code",
   "execution_count": 2,
   "metadata": {},
   "outputs": [
    {
     "name": "stdout",
     "output_type": "stream",
     "text": [
      "(784, 784)\n",
      "(784, 784)\n",
      "(784, 784)\n"
     ]
    },
    {
     "name": "stderr",
     "output_type": "stream",
     "text": [
      "/mnt/c/Users/garth/Desktop/DDN/notebooks/../nc_suite.py:77: RuntimeWarning: invalid value encountered in double_scalars\n",
      "  return (cc / assoc_a) + (cc / assoc_b)\n"
     ]
    },
    {
     "name": "stdout",
     "output_type": "stream",
     "text": [
      "inf\n"
     ]
    }
   ],
   "source": [
    "# Create img and labels\n",
    "mnist = datasets.MNIST('data', train=True, download=True)\n",
    "img = np.asarray(mnist[2][0])\n",
    "\n",
    "labels = np.copy(img)\n",
    "labels[labels>0] = 1\n",
    "\n",
    "\n",
    "labels1 = segmentation.slic(img, compactness=10, n_segments=28*28, sigma=1, # n_segments refers to things which are compared to other things..\n",
    "                            start_label=0, channel_axis=None)\n",
    "\n",
    "out1 = color.label2rgb(labels1, img, kind='avg', bg_label=0)\n",
    "\n",
    "rag = graph.rag_mean_color(img, labels1, mode='similarity', sigma=10, connectivity=2)\n",
    "\n",
    "dense_W = feature_extraction.image.img_to_graph(img, return_as=np.ndarray) # get a dense array of the img to graph\n",
    "print(dense_W.shape)\n",
    "dense_D = D_matrix(dense_W)\n",
    "\n",
    "dense_ev = solve_ncut(dense_D,dense_W)\n",
    "dense_cut_mask, dense_mcut = get_min_ncut(dense_ev, dense_D, dense_W, 10) # num_cuts = 20\n",
    "dense_ev = dense_ev.reshape((28,28))\n",
    "dense_cut_mask = dense_cut_mask.reshape((28,28))\n",
    "print(dense_mcut)\n",
    "\n",
    "D, W = DW_matrices(rag)\n",
    "\n",
    "ev = solve_ncut(D,W)\n",
    "cut_mask, mcut = get_min_ncut(ev, D, W, 10) # num_cuts = 20\n",
    "\n",
    "\n",
    "ev = ev.reshape((28,28))\n",
    "cut_mask = cut_mask.reshape((28,28))\n",
    "\n",
    "print(mcut)\n",
    "\n",
    "# TODO:\n",
    "# https://github.com/scikit-image/scikit-image/blob/5e74a4a3a5149a8a14566b81a32bb15499aa3857/skimage/graph/_graph_cut.py#L246"
   ]
  },
  {
   "cell_type": "code",
   "execution_count": 3,
   "metadata": {},
   "outputs": [
    {
     "data": {
      "image/png": "[encoded data removed]",
      "text/plain": [
       "<Figure size 432x288 with 10 Axes>"
      ]
     },
     "metadata": {
      "needs_background": "light"
     },
     "output_type": "display_data"
    }
   ],
   "source": [
    "plot_images([img, labels, labels1, out1, W, D, ev, cut_mask, dense_W, dense_D, dense_ev, dense_cut_mask], ['img', 'label', 'label1 (slic)', 'out1 label2rgb(slic)', 'W', 'D', 'ev', 'cut_mask', 'dense_W', 'dense_D', 'dense_ev', 'dense_cut_mask'])"
   ]
  },
  {
   "cell_type": "code",
   "execution_count": 4,
   "metadata": {},
   "outputs": [
    {
     "data": {
      "image/png": "[encoded data removed]",
      "text/plain": [
       "<Figure size 432x288 with 1 Axes>"
      ]
     },
     "metadata": {
      "needs_background": "light"
     },
     "output_type": "display_data"
    },
    {
     "name": "stdout",
     "output_type": "stream",
     "text": [
      "[  1   1   1 779   0   0   1   0   0   1]\n",
      "[-0.48302672 -0.36028432 -0.23754193 -0.11479954  0.00794286  0.13068525\n",
      "  0.25342764  0.37617004  0.49891243  0.62165482  0.74439721]\n"
     ]
    }
   ],
   "source": [
    "counts, bins = np.histogram(ev)\n",
    "plt.stairs(counts,bins)\n",
    "plt.show()\n",
    "print(counts)\n",
    "print(bins)"
   ]
  }
 ],
 "metadata": {
  "kernelspec": {
   "display_name": "ddn",
   "language": "python",
   "name": "python3"
  },
  "language_info": {
   "codemirror_mode": {
    "name": "ipython",
    "version": 3
   },
   "file_extension": ".py",
   "mimetype": "text/x-python",
   "name": "python",
   "nbconvert_exporter": "python",
   "pygments_lexer": "ipython3",
   "version": "3.8.11"
  },
  "orig_nbformat": 4
 },
 "nbformat": 4,
 "nbformat_minor": 2
}
