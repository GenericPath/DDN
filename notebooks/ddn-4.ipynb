{
 "cells": [
  {
   "cell_type": "code",
   "execution_count": null,
   "id": "fea76a8a",
   "metadata": {},
   "outputs": [],
   "source": [
    "import torch\n",
    "\n",
    "def n_cut_partition(W):\n",
    "    D = torch.diag(torch.sum(W, 0))\n",
    "    D_half_inv = torch.diag(1.0 / torch.sqrt(torch.sum(W, 0)))\n",
    "    M = torch.matmul(D_half_inv, torch.matmul((D - W), D_half_inv))\n",
    "\n",
    "    # M is the normalised laplacian\n",
    "    \n",
    "    (w, v) = torch.linalg.eig(M)\n",
    "    \n",
    "    print(W)\n",
    "    print(D)\n",
    "    print(w)\n",
    "    #find index of second smallest eigenvalue\n",
    "    index = torch.argsort(w)[1]\n",
    "\n",
    "    v_partition = v[:, index]\n",
    "#     instead of the sign of a digit being the binary split, let the NN learn it\n",
    "#     v_partition = torch.sign(v_partition)\n",
    "    return v_partition\n",
    "\n",
    "\n",
    "\n",
    "x = torch.tensor([[0,1,0,0], [1,0,0,3], [0,0,0,0], [0,3,0,0]], dtype=torch.double, requires_grad=False)\n",
    "out = n_cut_partition(x)\n",
    "print(out)"
   ]
  }
 ],
 "metadata": {
  "kernelspec": {
   "display_name": "ddn",
   "language": "python",
   "name": "ddn"
  },
  "language_info": {
   "codemirror_mode": {
    "name": "ipython",
    "version": 3
   },
   "file_extension": ".py",
   "mimetype": "text/x-python",
   "name": "python",
   "nbconvert_exporter": "python",
   "pygments_lexer": "ipython3",
   "version": "3.7.11"
  }
 },
 "nbformat": 4,
 "nbformat_minor": 5
}
