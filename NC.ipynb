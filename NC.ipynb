{
 "cells": [
  {
   "cell_type": "code",
   "execution_count": 2,
   "id": "7a555b2f",
   "metadata": {},
   "outputs": [],
   "source": [
    "%matplotlib inline\n",
    "# or notebook for interactive?\n",
    "import matplotlib.pyplot as plt\n",
    "import numpy as np\n",
    "import torchvision\n",
    "import torch\n",
    "from PIL import Image\n",
    "\n",
    "# Weight functions, g/i/s\n",
    "# something like\n",
    "# https://github.com/lwchen6309/unsupervised-image-segmentation-by-WNet-with-NormalizedCut/blob/7d2d395c71af778afcc421d1a7c12a30cb5eec75/src/soft_ncut.py\n",
    "# provides a good basis for implementing these (in a batch of images context)\n",
    "def gaussian(image): #g\n",
    "    \n",
    "    \n",
    "def intensity(image): #i\n",
    "    \n",
    "def saturation(image): #s\n",
    "    \n",
    "# Weight matrix function\n",
    "def create_weights(image, mode='g', full=False):\n",
    "    x,y = image.size\n",
    "    N = x*y # number of verticies\n",
    "    \n",
    "    W = np.zeros(N,N)\n",
    "    \n",
    "    \n",
    "def solve(W):\n",
    "    D = W.sum(0).diag() # D is an NxN diagonal matrix with d on diagonal, for d(i) = sum_j(w(i,j))\n",
    "    ONE = torch.ones(x.size(dim=0),1)   # Nx1 vector of all ones\n",
    "    L = D - W\n",
    "\n",
    "    val, vec = torch.linalg.eigh(L)\n",
    "    seen = {}\n",
    "    uniques = []\n",
    "    for (x,y) in zip(val, vec):\n",
    "        if x in seen:\n",
    "            continue\n",
    "        seen[x] = 1\n",
    "        uniques.append((x,y))\n",
    "    fiedler = sorted(uniques)[1][1]\n",
    "    return fiedler, _"
   ]
  },
  {
   "cell_type": "code",
   "execution_count": 7,
   "id": "a3e4099a",
   "metadata": {},
   "outputs": [
    {
     "name": "stdout",
     "output_type": "stream",
     "text": [
      "(8, 8)\n"
     ]
    },
    {
     "data": {
      "image/png": "[encoded data removed]",
      "text/plain": [
       "<Figure size 432x288 with 1 Axes>"
      ]
     },
     "metadata": {
      "needs_background": "light"
     },
     "output_type": "display_data"
    }
   ],
   "source": [
    "image = Image.open('./data/clean.png')\n",
    "plt.imshow(image)\n"
   ]
  }
 ],
 "metadata": {
  "kernelspec": {
   "display_name": "Python 3 (ipykernel)",
   "language": "python",
   "name": "python3"
  },
  "language_info": {
   "codemirror_mode": {
    "name": "ipython",
    "version": 3
   },
   "file_extension": ".py",
   "mimetype": "text/x-python",
   "name": "python",
   "nbconvert_exporter": "python",
   "pygments_lexer": "ipython3",
   "version": "3.7.11"
  }
 },
 "nbformat": 4,
 "nbformat_minor": 5
}
