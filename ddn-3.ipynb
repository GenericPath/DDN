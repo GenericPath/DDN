{
 "cells": [
  {
   "cell_type": "code",
   "execution_count": 11,
   "id": "f4de744d",
   "metadata": {},
   "outputs": [
    {
     "name": "stdout",
     "output_type": "stream",
     "text": [
      "tensor([[0., 1., 0.],\n",
      "        [2., 0., 3.],\n",
      "        [0., 4., 0.]])\n",
      "tensor([[-0.4040, -0.6937,  0.5963],\n",
      "        [ 0.7306,  0.1475,  0.6667],\n",
      "        [-0.5504,  0.7050,  0.4472]])\n",
      "done\n"
     ]
    }
   ],
   "source": [
    "# torch svd as approach to solve\n",
    "\n",
    "import torch\n",
    "import torch.nn as nn\n",
    "import scipy.optimize as opt\n",
    "import numpy as np\n",
    "import sys\n",
    "sys.path.append(\"../\")\n",
    "from ddn.pytorch.node import *\n",
    "import warnings\n",
    "warnings.filterwarnings('ignore')\n",
    "\n",
    "class NormalizedCuts(AbstractDeclarativeNode):\n",
    "    \"\"\"\n",
    "    A declarative node to embed Normalized Cuts into a Neural Network\n",
    "    \n",
    "    Normalized Cuts and Image Segmentation https://people.eecs.berkeley.edu/~malik/papers/SM-ncut.pdf\n",
    "    Shi, J., & Malik, J. (2000)\n",
    "    \"\"\"\n",
    "    def __init__(self):\n",
    "        super().__init__()\n",
    "        \n",
    "    def objective(self, x):\n",
    "        # x is an NxN symmetrical matrix with W(i,j) = w_ij\n",
    "        D = x.sum(1).diag() # D is an NxN diagonal matrix with d on diagonal, for d(i) = sum_j(w(i,j))\n",
    "        ONE = torch.ones(x.size(dim=0),1)   # Nx1 vector of all ones\n",
    "        L = D - x\n",
    "        \n",
    "        Lsym = torch.mm(torch.mm(torch.diag(torch.pow(torch.diag(D),-0.5)),L),torch.diag(torch.pow(torch.diag(D),-0.5)))\n",
    "        return Lsym\n",
    "\n",
    "    def solve(self, x):\n",
    "        # SVD works for any shape input, torch.linalg.eig for square\n",
    "        [u,s,v] = torch.svd(self.objective(x))\n",
    "        y = u\n",
    "        return y, _\n",
    "    \n",
    "torch.set_default_tensor_type(torch.DoubleTensor)\n",
    "\n",
    "node = NormalizedCuts()\n",
    "x = torch.tensor([[0,1,0], [2,0,3], [0,4,0]]).double()\n",
    "y,_ = node.solve(x)\n",
    "print(x)\n",
    "print(y)\n",
    "print(\"done\")\n",
    "# torch.cuda.set_device(gpu)\n",
    "# model = model.cuda(gpu)"
   ]
  },
  {
   "cell_type": "code",
   "execution_count": null,
   "id": "467a47f3",
   "metadata": {},
   "outputs": [],
   "source": [
    "import torch\n",
    "from torchvision import transforms, datasets\n",
    "\n",
    "# https://github.com/pytorch/vision/issues/2212#issuecomment-944225785\n",
    "# Compose and StandardCompose don't work together nicely?\n",
    "\n",
    "data_transform = Compose([\n",
    "    transforms.Resize(size=(100,100)),\n",
    "    transforms.Grayscale(1),\n",
    "    transforms.ToTensor()\n",
    "    ])\n",
    "    \n",
    "train_city = torchvision.datasets.Cityscapes(root='./data/cityscapes/', split='train', mode='fine',\n",
    "                     target_type='semantic', transforms=data_transform)\n",
    "\n",
    "test_city = torchvision.datasets.Cityscapes(root='./data/cityscapes/', split='test', mode='fine',\n",
    "                     target_type='semantic', transforms=data_transform)\n",
    "\n",
    "train_loader = torch.utils.data.DataLoader(train_city, batch_size=1, shuffle=True)\n",
    "test_loader = torch.utils.data.DataLoader(test_city, batch_size=1, shuffle=True)\n",
    "\n",
    "# visualise\n",
    "train_img = next(iter(train_loader))"
   ]
  },
  {
   "cell_type": "code",
   "execution_count": null,
   "id": "cedeaada",
   "metadata": {},
   "outputs": [],
   "source": [
    "class Net(nn.Module):\n",
    "    def __init__(self):\n",
    "        \"\"\"\n",
    "        instatiate parameter\n",
    "        \"\"\"\n",
    "        super().__init__()\n",
    "    \n",
    "# GPU ID to use\n",
    "gpu = 1\n",
    "\n",
    "# Create model, set to use GPU\n",
    "model = Net()"
   ]
  }
 ],
 "metadata": {
  "kernelspec": {
   "display_name": "Python 3 (ipykernel)",
   "language": "python",
   "name": "python3"
  },
  "language_info": {
   "codemirror_mode": {
    "name": "ipython",
    "version": 3
   },
   "file_extension": ".py",
   "mimetype": "text/x-python",
   "name": "python",
   "nbconvert_exporter": "python",
   "pygments_lexer": "ipython3",
   "version": "3.7.11"
  }
 },
 "nbformat": 4,
 "nbformat_minor": 5
}
